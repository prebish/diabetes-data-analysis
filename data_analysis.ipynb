{
 "cells": [
  {
   "cell_type": "markdown",
   "metadata": {},
   "source": [
    "# Visualizing Diabetes Data\n",
    "\n",
    "\n",
    "Powered by `pandasplot` and `matplotlib`\n"
   ]
  },
  {
   "cell_type": "markdown",
   "metadata": {},
   "source": [
    "## Imports\n"
   ]
  },
  {
   "cell_type": "code",
   "execution_count": null,
   "metadata": {},
   "outputs": [],
   "source": [
    "%matplotlib inline\n",
    "import pandas as pd\n",
    "import numpy as np\n",
    "import matplotlib.pyplot as plt"
   ]
  },
  {
   "cell_type": "markdown",
   "metadata": {},
   "source": [
    "----"
   ]
  },
  {
   "cell_type": "markdown",
   "metadata": {},
   "source": [
    "## About the Data\n",
    "\n",
    "This dataset contains health metrics and demographic information for individuals, primarily used for studying diabetes and related health conditions. It includes various blood parameters, such as cholesterol, glucose, and glycated hemoglobin levels, along with physical characteristics like height, weight, and body frame. The data is collected from individuals in two locations, Buckingham and Louisa, and includes demographic details such as age and gender. This dataset can help analyze the relationship between different health metrics and demographic factors, aiding in diabetes research and understanding its impact on different populations."
   ]
  },
  {
   "cell_type": "code",
   "execution_count": null,
   "metadata": {},
   "outputs": [],
   "source": [
    "data_frame = pd.read_csv(\"diabetes.csv\")\n",
    "# Drop the missing values rows\n",
    "data_frame = data_frame.dropna()\n",
    "data_frame.head(5)"
   ]
  },
  {
   "cell_type": "markdown",
   "metadata": {},
   "source": [
    "## Plotting the Data\n",
    "### Cholesterol Levels vs Weight\n",
    "\n",
    "This code visualizes the distribution of cholesterol levels and weight within the dataset using density plots. A density plot provides a smooth estimate of the data distribution, highlighting where values are concentrated over a continuous interval."
   ]
  },
  {
   "cell_type": "code",
   "execution_count": null,
   "metadata": {},
   "outputs": [],
   "source": [
    "data_frame[\"chol\"].plot.density()\n",
    "data_frame[\"weight\"].plot.density()"
   ]
  },
  {
   "cell_type": "markdown",
   "metadata": {},
   "source": [
    "### Cholesterol Levels and Age\n"
   ]
  },
  {
   "cell_type": "markdown",
   "metadata": {},
   "source": [
    "A view of the data at a new angle; comparing the Cholesterol Levels to Ages in order to see how that match up. As we can see, Most of our subjects' records indicate their cholesterol levels to be within the 150-250 range with some outliers. "
   ]
  },
  {
   "cell_type": "code",
   "execution_count": null,
   "metadata": {},
   "outputs": [],
   "source": [
    "# Scatter plot for cholesterol levels and age\n",
    "data_frame.plot(kind='hexbin', x='chol', y='age', gridsize=20, title='Cholesterol Levels and Age')\n",
    "plt.xlabel('Cholesterol Level')\n",
    "plt.ylabel('Age')\n",
    "plt.show()"
   ]
  },
  {
   "cell_type": "markdown",
   "metadata": {},
   "source": [
    "### Cholesterol and Weight\n",
    "\n",
    "Uses a Cartesian coordinate system to plot points along a grid where the X and Y axis are separate variables.\n",
    "\n",
    "Each point is assigned a label or category. Each plotted point then represents a third variable by the area of its circle. Colors can be used to distinguish between categories or used to represent an additional data variable. \n",
    "\n",
    "Used to compare and show the relationships between categorised circles, by the use of positioning and proportions. The overall picture can be use to analyse for patterns/correlations."
   ]
  },
  {
   "cell_type": "code",
   "execution_count": null,
   "metadata": {},
   "outputs": [],
   "source": [
    "data_frame.plot(kind='hexbin', x='chol', y='weight',\n",
    "        gridsize=20,\n",
    "        title=\"Cholesterol and Weight\")"
   ]
  },
  {
   "cell_type": "markdown",
   "metadata": {},
   "source": [
    "### Weight and Age"
   ]
  },
  {
   "cell_type": "markdown",
   "metadata": {},
   "source": [
    "Initially, density plots suggest that weight influences cholesterol levels. However, hexbin plots for both weight vs. cholesterol and age vs. cholesterol appear similar. This raises the question: does age influence cholesterol levels?\n",
    "\n",
    "To explore this, we will examine the relationship between age and weight to determine if age significantly affects weight, which might in turn influence cholesterol levels."
   ]
  },
  {
   "cell_type": "code",
   "execution_count": null,
   "metadata": {},
   "outputs": [],
   "source": [
    "data_frame.plot(kind='scatter', x='weight', y='age', \n",
    "        title=\"Weight and Age\")"
   ]
  },
  {
   "cell_type": "markdown",
   "metadata": {},
   "source": [
    "## Conclusion\n",
    "\n"
   ]
  },
  {
   "cell_type": "markdown",
   "metadata": {},
   "source": [
    "Based on our analysis, the scatter plot for age versus weight is widely dispersed, indicating no significant correlation between the two variables. This suggests that age does not influence weight in a meaningful way. Consequently, it's unlikely that age impacts cholesterol levels through weight. Therefore, the initial impression that weight alone influences cholesterol levels remains valid, and age does not appear to be a contributing factor."
   ]
  }
 ],
 "metadata": {
  "kernelspec": {
   "display_name": "Python 3",
   "language": "python",
   "name": "python3"
  },
  "language_info": {
   "codemirror_mode": {
    "name": "ipython",
    "version": 3
   },
   "file_extension": ".py",
   "mimetype": "text/x-python",
   "name": "python",
   "nbconvert_exporter": "python",
   "pygments_lexer": "ipython3",
   "version": "3.9.6"
  }
 },
 "nbformat": 4,
 "nbformat_minor": 4
}
